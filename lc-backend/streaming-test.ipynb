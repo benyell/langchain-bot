{
 "cells": [
  {
   "cell_type": "markdown",
   "metadata": {},
   "source": [
    "## Test Streaming API"
   ]
  },
  {
   "cell_type": "markdown",
   "metadata": {},
   "source": [
    "This notebook covers hitting the API `/invoke` endpoint and streaming the code to our terminal."
   ]
  },
  {
   "cell_type": "code",
   "execution_count": 1,
   "metadata": {},
   "outputs": [],
   "source": [
    "import requests\n",
    "\n",
    "def get_stream(query: str):\n",
    "    localsession = requests.Session()\n",
    "    with localsession.post(\n",
    "        f\"http://localhost:8000/invoke?content={query}\",\n",
    "        stream=True,\n",
    "        headers={\"Accept\": \"text/event-stream\"}\n",
    "    ) as response:\n",
    "        for token in response.iter_content(decode_unicode=True):\n",
    "            if token:  # Skip empty lines\n",
    "                print(token, end=\"\", flush=True)"
   ]
  },
  {
   "cell_type": "markdown",
   "metadata": {},
   "source": [
    "We can test with the simple `add` tool first:"
   ]
  },
  {
   "cell_type": "code",
   "execution_count": 2,
   "metadata": {},
   "outputs": [
    {
     "name": "stdout",
     "output_type": "stream",
     "text": [
      "<step><step_name>add</step_name>{\"x\":5,\"y\":5}</step><step><step_name>final_answer</step_name>{\"answer\":\"The result of 5 + 5 is 10.\",\"tools_used\":[\"functions.add\"]}"
     ]
    }
   ],
   "source": [
    "get_stream(\"what is 5+5\")"
   ]
  },
  {
   "cell_type": "markdown",
   "metadata": {},
   "source": [
    "Now let's try the `serpapi` tool:"
   ]
  },
  {
   "cell_type": "code",
   "execution_count": 3,
   "metadata": {},
   "outputs": [
    {
     "name": "stdout",
     "output_type": "stream",
     "text": [
      "<step><step_name>serpapi</step_name>{\"query\":\"latest world news\"}</step><step><step_name>final_answer</step_name>{\"answer\":\"Here are some of the latest news highlights from around the world:\\n\\n1. **Sudan Landslide**: Hundreds have been killed in a landslide in Sudan, which followed heavy rain and reportedly \\\"levelled\\\" a remote village. [Read more](https://www.bbc.com/news/world)\\n\\n2. **Gaza Conflict**: In the ongoing conflict, 105 individuals, including children and journalists, have been reported killed in Israeli airstrikes in Gaza. [Read more](https://www.aljazeera.com/)\\n\\n3. **US Military Action**: The US has conducted a 'kinetic strike' against a drug boat from Venezuela, resulting in the deaths of 11 individuals, according to former President Trump. [Read more](https://www.theguardian.com/world)\\n\\n4. **Aftershock in Afghanistan**: A strong aftershock has hit Afghanistan following a recent earthquake that killed more than 1,400 people, with many still trapped under rubble. [Read more](https://www.bbc.com/)\\n\\nFor more detailed updates, you can check sources like [BBC](https://www.bbc.com/news/world), [CNN](https://www.cnn.com/world), and [Al Jazeera](https://www.aljazeera.com/).\",\"tools_used\":[\"serpapi\"]}"
     ]
    }
   ],
   "source": [
    "get_stream(\"tell me about the latest news in the world\")"
   ]
  },
  {
   "cell_type": "code",
   "execution_count": 4,
   "metadata": {},
   "outputs": [
    {
     "name": "stdout",
     "output_type": "stream",
     "text": [
      "<step><step_name>serpapi</step_name>{\"query\": \"current temperature in Oslo\"}<step><step_name>multiply</step_name>{\"x\": 5, \"y\": 5}</step><step><step_name>final_answer</step_name>{\"answer\":\"The current temperature in Oslo is approximately 61°F (16°C). The result of 5 * 5 is 25. Therefore, when multiplying the temperature (in Fahrenheit) by 5 * 5, you get 61 * 25 = 1525.\",\"tools_used\":[\"serpapi\",\"functions.multiply\"]}"
     ]
    }
   ],
   "source": [
    "get_stream(\n",
    "    \"how cold is it in oslo right now, what is 5*5, and what \"\n",
    "    \"do you get when multiplying those two numbers together?\"\n",
    ")"
   ]
  },
  {
   "cell_type": "code",
   "execution_count": 5,
   "metadata": {},
   "outputs": [
    {
     "name": "stdout",
     "output_type": "stream",
     "text": [
      "<step><step_name>serpapi</step_name>{\"query\": \"current date and time in Dubai\"}<step><step_name>serpapi</step_name>{\"query\": \"current date and time in Tokyo\"}<step><step_name>serpapi</step_name>{\"query\": \"current date and time in Berlin\"}</step><step><step_name>final_answer</step_name>{\"answer\": \"Current date and time in Dubai: 8:23 PM, September 2, 2025. Current date and time in Tokyo: 9:41 AM, September 2, 2025. Current date and time in Berlin: 11:28 PM, September 2, 2025.\", \"tools_used\": [\"serpapi\"]}<step><step_name>final_answer</step_name>{\"answer\": \"Current date and time in Dubai: 8:23 PM, September 2, 2025. Current date and time in Tokyo: 9:41 AM, September 2, 2025. Current date and time in Berlin: 11:28 PM, September 2, 2025.\", \"tools_used\": [\"serpapi\"]}"
     ]
    }
   ],
   "source": [
    "get_stream(\"what is the current date and time in these places: dubai, tokyo, berlin?\")"
   ]
  },
  {
   "cell_type": "markdown",
   "metadata": {},
   "source": [
    "---"
   ]
  }
 ],
 "metadata": {
  "kernelspec": {
   "display_name": "langchain-course",
   "language": "python",
   "name": "python3"
  },
  "language_info": {
   "codemirror_mode": {
    "name": "ipython",
    "version": 3
   },
   "file_extension": ".py",
   "mimetype": "text/x-python",
   "name": "python",
   "nbconvert_exporter": "python",
   "pygments_lexer": "ipython3",
   "version": "3.12.11"
  }
 },
 "nbformat": 4,
 "nbformat_minor": 2
}
